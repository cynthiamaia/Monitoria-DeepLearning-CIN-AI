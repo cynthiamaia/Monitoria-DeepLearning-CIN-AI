{
 "cells": [
  {
   "cell_type": "code",
   "execution_count": 20,
   "id": "ba877ce5",
   "metadata": {},
   "outputs": [],
   "source": [
    "# Bibliotecas de manipualção e visualização de dados\n",
    "import pandas as pd\n",
    "import numpy as np\n",
    "import matplotlib.pyplot as plt\n",
    "from mlxtend.plotting import plot_decision_regions\n",
    "\n",
    "# Classes dos modelo\n",
    "from sklearn.linear_model import Perceptron\n",
    "\n",
    "# Funções de avaliação dos modelos\n",
    "from sklearn.metrics import (confusion_matrix, \n",
    "                             ConfusionMatrixDisplay,\n",
    "                             classification_report)\n",
    "\n",
    "from sklearn.model_selection import train_test_split\n",
    "\n",
    "import warnings\n",
    "warnings.filterwarnings('ignore')"
   ]
  },
  {
   "cell_type": "code",
   "execution_count": 21,
   "id": "4e4792ec",
   "metadata": {},
   "outputs": [],
   "source": [
    "#Carregando o dataset\n",
    "dataset = pd.read_csv(\"https://raw.githubusercontent.com/cynthiamaia/Monitoria-DeepLearning-CIN-AI/main/Datasets/Iris.csv\")\n",
    "# Mapeando os valores da classe para inteiro (para fins de visualização da região de decisão)\n",
    "dataset['Species'] = pd.factorize(dataset['Species'])[0]"
   ]
  },
  {
   "cell_type": "code",
   "execution_count": 22,
   "id": "a574ed85",
   "metadata": {},
   "outputs": [],
   "source": [
    "#Vamos usar somente duas features PetalLengthCm e PetalWidthCm\n",
    "X = dataset.iloc[:,[2,3]]\n",
    "y = dataset.iloc[:,[4]]\n",
    "\n",
    "# para treinar e avaliar um classificador, precisamos dividir o dataset em dois conjuntos, ...\n",
    "X_train, X_test, y_train, y_test = train_test_split(X, y, stratify=y)\n",
    "#stratify -> garantir que a proporção das classes da variável alvo (y) seja mantida "
   ]
  },
  {
   "cell_type": "code",
   "execution_count": 23,
   "id": "7cc4fdcc",
   "metadata": {},
   "outputs": [
    {
     "data": {
      "text/html": [
       "<div>\n",
       "<style scoped>\n",
       "    .dataframe tbody tr th:only-of-type {\n",
       "        vertical-align: middle;\n",
       "    }\n",
       "\n",
       "    .dataframe tbody tr th {\n",
       "        vertical-align: top;\n",
       "    }\n",
       "\n",
       "    .dataframe thead th {\n",
       "        text-align: right;\n",
       "    }\n",
       "</style>\n",
       "<table border=\"1\" class=\"dataframe\">\n",
       "  <thead>\n",
       "    <tr style=\"text-align: right;\">\n",
       "      <th></th>\n",
       "      <th>Species</th>\n",
       "    </tr>\n",
       "  </thead>\n",
       "  <tbody>\n",
       "    <tr>\n",
       "      <th>29</th>\n",
       "      <td>0</td>\n",
       "    </tr>\n",
       "    <tr>\n",
       "      <th>83</th>\n",
       "      <td>1</td>\n",
       "    </tr>\n",
       "    <tr>\n",
       "      <th>132</th>\n",
       "      <td>2</td>\n",
       "    </tr>\n",
       "    <tr>\n",
       "      <th>0</th>\n",
       "      <td>0</td>\n",
       "    </tr>\n",
       "    <tr>\n",
       "      <th>91</th>\n",
       "      <td>1</td>\n",
       "    </tr>\n",
       "    <tr>\n",
       "      <th>115</th>\n",
       "      <td>2</td>\n",
       "    </tr>\n",
       "    <tr>\n",
       "      <th>102</th>\n",
       "      <td>2</td>\n",
       "    </tr>\n",
       "    <tr>\n",
       "      <th>67</th>\n",
       "      <td>1</td>\n",
       "    </tr>\n",
       "    <tr>\n",
       "      <th>5</th>\n",
       "      <td>0</td>\n",
       "    </tr>\n",
       "    <tr>\n",
       "      <th>51</th>\n",
       "      <td>1</td>\n",
       "    </tr>\n",
       "    <tr>\n",
       "      <th>149</th>\n",
       "      <td>2</td>\n",
       "    </tr>\n",
       "    <tr>\n",
       "      <th>35</th>\n",
       "      <td>0</td>\n",
       "    </tr>\n",
       "    <tr>\n",
       "      <th>46</th>\n",
       "      <td>0</td>\n",
       "    </tr>\n",
       "    <tr>\n",
       "      <th>71</th>\n",
       "      <td>1</td>\n",
       "    </tr>\n",
       "    <tr>\n",
       "      <th>11</th>\n",
       "      <td>0</td>\n",
       "    </tr>\n",
       "    <tr>\n",
       "      <th>63</th>\n",
       "      <td>1</td>\n",
       "    </tr>\n",
       "    <tr>\n",
       "      <th>106</th>\n",
       "      <td>2</td>\n",
       "    </tr>\n",
       "    <tr>\n",
       "      <th>50</th>\n",
       "      <td>1</td>\n",
       "    </tr>\n",
       "    <tr>\n",
       "      <th>49</th>\n",
       "      <td>0</td>\n",
       "    </tr>\n",
       "    <tr>\n",
       "      <th>86</th>\n",
       "      <td>1</td>\n",
       "    </tr>\n",
       "    <tr>\n",
       "      <th>78</th>\n",
       "      <td>1</td>\n",
       "    </tr>\n",
       "    <tr>\n",
       "      <th>16</th>\n",
       "      <td>0</td>\n",
       "    </tr>\n",
       "    <tr>\n",
       "      <th>114</th>\n",
       "      <td>2</td>\n",
       "    </tr>\n",
       "    <tr>\n",
       "      <th>8</th>\n",
       "      <td>0</td>\n",
       "    </tr>\n",
       "    <tr>\n",
       "      <th>96</th>\n",
       "      <td>1</td>\n",
       "    </tr>\n",
       "    <tr>\n",
       "      <th>111</th>\n",
       "      <td>2</td>\n",
       "    </tr>\n",
       "    <tr>\n",
       "      <th>54</th>\n",
       "      <td>1</td>\n",
       "    </tr>\n",
       "    <tr>\n",
       "      <th>104</th>\n",
       "      <td>2</td>\n",
       "    </tr>\n",
       "    <tr>\n",
       "      <th>147</th>\n",
       "      <td>2</td>\n",
       "    </tr>\n",
       "    <tr>\n",
       "      <th>47</th>\n",
       "      <td>0</td>\n",
       "    </tr>\n",
       "    <tr>\n",
       "      <th>10</th>\n",
       "      <td>0</td>\n",
       "    </tr>\n",
       "    <tr>\n",
       "      <th>45</th>\n",
       "      <td>0</td>\n",
       "    </tr>\n",
       "    <tr>\n",
       "      <th>116</th>\n",
       "      <td>2</td>\n",
       "    </tr>\n",
       "    <tr>\n",
       "      <th>13</th>\n",
       "      <td>0</td>\n",
       "    </tr>\n",
       "    <tr>\n",
       "      <th>61</th>\n",
       "      <td>1</td>\n",
       "    </tr>\n",
       "    <tr>\n",
       "      <th>108</th>\n",
       "      <td>2</td>\n",
       "    </tr>\n",
       "    <tr>\n",
       "      <th>109</th>\n",
       "      <td>2</td>\n",
       "    </tr>\n",
       "    <tr>\n",
       "      <th>94</th>\n",
       "      <td>1</td>\n",
       "    </tr>\n",
       "  </tbody>\n",
       "</table>\n",
       "</div>"
      ],
      "text/plain": [
       "     Species\n",
       "29         0\n",
       "83         1\n",
       "132        2\n",
       "0          0\n",
       "91         1\n",
       "115        2\n",
       "102        2\n",
       "67         1\n",
       "5          0\n",
       "51         1\n",
       "149        2\n",
       "35         0\n",
       "46         0\n",
       "71         1\n",
       "11         0\n",
       "63         1\n",
       "106        2\n",
       "50         1\n",
       "49         0\n",
       "86         1\n",
       "78         1\n",
       "16         0\n",
       "114        2\n",
       "8          0\n",
       "96         1\n",
       "111        2\n",
       "54         1\n",
       "104        2\n",
       "147        2\n",
       "47         0\n",
       "10         0\n",
       "45         0\n",
       "116        2\n",
       "13         0\n",
       "61         1\n",
       "108        2\n",
       "109        2\n",
       "94         1"
      ]
     },
     "execution_count": 23,
     "metadata": {},
     "output_type": "execute_result"
    }
   ],
   "source": [
    "y_test"
   ]
  },
  {
   "cell_type": "code",
   "execution_count": 24,
   "id": "3e7f5e4a",
   "metadata": {},
   "outputs": [],
   "source": [
    "# ... referenciando o modelo\n",
    "model = Perceptron()\n",
    "\n",
    "#treinando o modelo\n",
    "model.fit(X_train, y_train)\n",
    "\n",
    "#predição\n",
    "y_pred = model.predict(X_test)"
   ]
  },
  {
   "cell_type": "code",
   "execution_count": 25,
   "id": "5a4d84f4",
   "metadata": {},
   "outputs": [
    {
     "name": "stdout",
     "output_type": "stream",
     "text": [
      "              precision    recall  f1-score   support\n",
      "\n",
      "           0       1.00      1.00      1.00        13\n",
      "           1       1.00      0.31      0.47        13\n",
      "           2       0.57      1.00      0.73        12\n",
      "\n",
      "    accuracy                           0.76        38\n",
      "   macro avg       0.86      0.77      0.73        38\n",
      "weighted avg       0.86      0.76      0.73        38\n",
      "\n"
     ]
    }
   ],
   "source": [
    "# qual o resultado para esse classificador?\n",
    "print(classification_report(y_test, y_pred))"
   ]
  },
  {
   "cell_type": "code",
   "execution_count": 26,
   "id": "2c9737bf",
   "metadata": {},
   "outputs": [
    {
     "name": "stdout",
     "output_type": "stream",
     "text": [
      "[[1.         0.         0.        ]\n",
      " [0.         0.30769231 0.69230769]\n",
      " [0.         0.         1.        ]]\n",
      "\n",
      " Labels:[0 1 2] \n",
      "\n"
     ]
    },
    {
     "data": {
      "text/plain": [
       "<sklearn.metrics._plot.confusion_matrix.ConfusionMatrixDisplay at 0x284eed090>"
      ]
     },
     "execution_count": 26,
     "metadata": {},
     "output_type": "execute_result"
    },
    {
     "data": {
      "image/png": "[encoded data removed]",
      "text/plain": [
       "<Figure size 640x480 with 2 Axes>"
      ]
     },
     "metadata": {},
     "output_type": "display_data"
    }
   ],
   "source": [
    "# a função confusion matrix retorna uma matriz com a contagem de como cada \n",
    "# uma das classes está sendo classificada corretamente ou erroneamente\n",
    "cm = confusion_matrix(y_test, y_pred, labels=model.classes_, normalize=\"true\")\n",
    "print(cm)\n",
    "\n",
    "print(f\"\\n Labels:{model.classes_} \\n\")\n",
    "\n",
    "#display_labels - define como será a ordem das classes na matriz\n",
    "disp_cm = ConfusionMatrixDisplay(cm, display_labels=model.classes_)\n",
    "disp_cm.plot()"
   ]
  },
  {
   "cell_type": "code",
   "execution_count": 27,
   "id": "e9b1126a",
   "metadata": {},
   "outputs": [],
   "source": [
    "def show_decision_region(X, y, model):\n",
    "    feature_0 = X.columns[0]\n",
    "    feature_1 = X.columns[1]\n",
    "\n",
    "    plot_decision_regions(np.array([X[feature_0].values,\n",
    "                                    X[feature_1].values]).T,\n",
    "                                    y.values.flatten(), model)\n",
    "    plt.xlabel(feature_0)\n",
    "    plt.ylabel(feature_1)\n",
    "\n",
    "    plt.title(model.__class__.__name__)\n",
    "    plt.show()"
   ]
  },
  {
   "cell_type": "code",
   "execution_count": 28,
   "id": "cb20eba1",
   "metadata": {},
   "outputs": [
    {
     "data": {
      "image/png": "[encoded data removed]",
      "text/plain": [
       "<Figure size 640x480 with 1 Axes>"
      ]
     },
     "metadata": {},
     "output_type": "display_data"
    }
   ],
   "source": [
    "show_decision_region(X_test, y_test, model)\n"
   ]
  }
 ],
 "metadata": {
  "kernelspec": {
   "display_name": "Python 3",
   "language": "python",
   "name": "python3"
  },
  "language_info": {
   "codemirror_mode": {
    "name": "ipython",
    "version": 3
   },
   "file_extension": ".py",
   "mimetype": "text/x-python",
   "name": "python",
   "nbconvert_exporter": "python",
   "pygments_lexer": "ipython3",
   "version": "3.13.0"
  }
 },
 "nbformat": 4,
 "nbformat_minor": 5
}
