{
 "cells": [
  {
   "attachments": {},
   "cell_type": "markdown",
   "metadata": {},
   "source": [
    "# Regressão Linear \n",
    "***"
   ]
  },
  {
   "attachments": {},
   "cell_type": "markdown",
   "metadata": {},
   "source": [
    "## Importanto Bibliotecas"
   ]
  },
  {
   "cell_type": "code",
   "execution_count": null,
   "metadata": {},
   "outputs": [],
   "source": [
    "pip install plotly"
   ]
  },
  {
   "cell_type": "code",
   "execution_count": 1,
   "metadata": {},
   "outputs": [],
   "source": [
    "# Bibliotecas de manipualção e visualização de dados\n",
    "import pandas as pd\n",
    "import matplotlib.pyplot as plt\n",
    "import plotly.express as px\n",
    "\n",
    "# Classes dos modelo\n",
    "from sklearn.linear_model import LinearRegression\n",
    "\n",
    "#Funções de avaliação dos modelos\n",
    "from sklearn.metrics import  mean_squared_error, r2_score\n",
    "from sklearn.model_selection import train_test_split"
   ]
  },
  {
   "attachments": {},
   "cell_type": "markdown",
   "metadata": {},
   "source": [
    "## Análise do dataset\n",
    "\n",
    "**House**: A tarefa é prever o preço médio da casa na região com base na composição demográfica e no estado do mercado imobiliário na região. Descrição [link](https://sci2s.ugr.es/keel/dataset.php?cod=95#sub1)."
   ]
  },
  {
   "cell_type": "code",
   "execution_count": 3,
   "metadata": {},
   "outputs": [],
   "source": [
    "dataset = pd.read_csv(\"https://raw.githubusercontent.com/cynthiamaia/Monitoria-DeepLearning-CIN-AI/main/Datasets/house.csv\")"
   ]
  },
  {
   "cell_type": "code",
   "execution_count": 8,
   "metadata": {},
   "outputs": [
    {
     "data": {
      "text/plain": [
       "Index(['Price', 'P1', ' P5p1', ' P6p2', ' P11p4', ' P14p9', ' P15p1', ' P15p3',\n",
       "       ' P16p2', ' P18p2', ' P27p4', ' H2p2', ' H8p2', ' H10p1', ' H13p1',\n",
       "       ' H18pA', ' H40p4'],\n",
       "      dtype='object')"
      ]
     },
     "execution_count": 8,
     "metadata": {},
     "output_type": "execute_result"
    }
   ],
   "source": [
    "dataset.columns"
   ]
  },
  {
   "cell_type": "code",
   "execution_count": 9,
   "metadata": {},
   "outputs": [
    {
     "data": {
      "text/html": [
       "<div>\n",
       "<style scoped>\n",
       "    .dataframe tbody tr th:only-of-type {\n",
       "        vertical-align: middle;\n",
       "    }\n",
       "\n",
       "    .dataframe tbody tr th {\n",
       "        vertical-align: top;\n",
       "    }\n",
       "\n",
       "    .dataframe thead th {\n",
       "        text-align: right;\n",
       "    }\n",
       "</style>\n",
       "<table border=\"1\" class=\"dataframe\">\n",
       "  <thead>\n",
       "    <tr style=\"text-align: right;\">\n",
       "      <th></th>\n",
       "      <th>Price</th>\n",
       "      <th>P1</th>\n",
       "      <th>P5p1</th>\n",
       "      <th>P6p2</th>\n",
       "      <th>P11p4</th>\n",
       "      <th>P14p9</th>\n",
       "      <th>P15p1</th>\n",
       "      <th>P15p3</th>\n",
       "      <th>P16p2</th>\n",
       "      <th>P18p2</th>\n",
       "      <th>P27p4</th>\n",
       "      <th>H2p2</th>\n",
       "      <th>H8p2</th>\n",
       "      <th>H10p1</th>\n",
       "      <th>H13p1</th>\n",
       "      <th>H18pA</th>\n",
       "      <th>H40p4</th>\n",
       "    </tr>\n",
       "  </thead>\n",
       "  <tbody>\n",
       "    <tr>\n",
       "      <th>0</th>\n",
       "      <td>14999</td>\n",
       "      <td>219</td>\n",
       "      <td>0.506849</td>\n",
       "      <td>0.031963</td>\n",
       "      <td>0.146119</td>\n",
       "      <td>0.101852</td>\n",
       "      <td>0.876712</td>\n",
       "      <td>0.000000</td>\n",
       "      <td>0.746988</td>\n",
       "      <td>0.012048</td>\n",
       "      <td>0.060241</td>\n",
       "      <td>0.231482</td>\n",
       "      <td>0.024096</td>\n",
       "      <td>0.987952</td>\n",
       "      <td>0.351852</td>\n",
       "      <td>0.000000</td>\n",
       "      <td>0.800000</td>\n",
       "    </tr>\n",
       "    <tr>\n",
       "      <th>1</th>\n",
       "      <td>106200</td>\n",
       "      <td>2273</td>\n",
       "      <td>0.495381</td>\n",
       "      <td>0.018918</td>\n",
       "      <td>0.067312</td>\n",
       "      <td>0.045336</td>\n",
       "      <td>0.794545</td>\n",
       "      <td>0.016718</td>\n",
       "      <td>0.641053</td>\n",
       "      <td>0.002105</td>\n",
       "      <td>0.076842</td>\n",
       "      <td>0.064961</td>\n",
       "      <td>0.017895</td>\n",
       "      <td>0.997895</td>\n",
       "      <td>0.170276</td>\n",
       "      <td>0.054217</td>\n",
       "      <td>0.258064</td>\n",
       "    </tr>\n",
       "    <tr>\n",
       "      <th>2</th>\n",
       "      <td>14999</td>\n",
       "      <td>564</td>\n",
       "      <td>0.457447</td>\n",
       "      <td>0.058511</td>\n",
       "      <td>0.299645</td>\n",
       "      <td>0.238562</td>\n",
       "      <td>0.764184</td>\n",
       "      <td>0.010638</td>\n",
       "      <td>0.567273</td>\n",
       "      <td>0.003636</td>\n",
       "      <td>0.014545</td>\n",
       "      <td>0.140625</td>\n",
       "      <td>0.054545</td>\n",
       "      <td>0.996364</td>\n",
       "      <td>0.381250</td>\n",
       "      <td>0.056180</td>\n",
       "      <td>1.000000</td>\n",
       "    </tr>\n",
       "    <tr>\n",
       "      <th>3</th>\n",
       "      <td>29900</td>\n",
       "      <td>620</td>\n",
       "      <td>0.495161</td>\n",
       "      <td>0.003226</td>\n",
       "      <td>0.104839</td>\n",
       "      <td>0.086262</td>\n",
       "      <td>0.909677</td>\n",
       "      <td>0.000000</td>\n",
       "      <td>0.792793</td>\n",
       "      <td>0.009009</td>\n",
       "      <td>0.027027</td>\n",
       "      <td>0.051282</td>\n",
       "      <td>0.004504</td>\n",
       "      <td>0.995495</td>\n",
       "      <td>0.183761</td>\n",
       "      <td>0.162791</td>\n",
       "      <td>0.000000</td>\n",
       "    </tr>\n",
       "    <tr>\n",
       "      <th>4</th>\n",
       "      <td>85900</td>\n",
       "      <td>3809</td>\n",
       "      <td>0.491730</td>\n",
       "      <td>0.205303</td>\n",
       "      <td>0.107115</td>\n",
       "      <td>0.085744</td>\n",
       "      <td>0.899449</td>\n",
       "      <td>0.000000</td>\n",
       "      <td>0.766566</td>\n",
       "      <td>0.008283</td>\n",
       "      <td>0.039910</td>\n",
       "      <td>0.017024</td>\n",
       "      <td>0.200301</td>\n",
       "      <td>0.985693</td>\n",
       "      <td>0.198372</td>\n",
       "      <td>0.106557</td>\n",
       "      <td>0.666667</td>\n",
       "    </tr>\n",
       "  </tbody>\n",
       "</table>\n",
       "</div>"
      ],
      "text/plain": [
       "    Price    P1      P5p1      P6p2     P11p4     P14p9     P15p1     P15p3  \\\n",
       "0   14999   219  0.506849  0.031963  0.146119  0.101852  0.876712  0.000000   \n",
       "1  106200  2273  0.495381  0.018918  0.067312  0.045336  0.794545  0.016718   \n",
       "2   14999   564  0.457447  0.058511  0.299645  0.238562  0.764184  0.010638   \n",
       "3   29900   620  0.495161  0.003226  0.104839  0.086262  0.909677  0.000000   \n",
       "4   85900  3809  0.491730  0.205303  0.107115  0.085744  0.899449  0.000000   \n",
       "\n",
       "      P16p2     P18p2     P27p4      H2p2      H8p2     H10p1     H13p1  \\\n",
       "0  0.746988  0.012048  0.060241  0.231482  0.024096  0.987952  0.351852   \n",
       "1  0.641053  0.002105  0.076842  0.064961  0.017895  0.997895  0.170276   \n",
       "2  0.567273  0.003636  0.014545  0.140625  0.054545  0.996364  0.381250   \n",
       "3  0.792793  0.009009  0.027027  0.051282  0.004504  0.995495  0.183761   \n",
       "4  0.766566  0.008283  0.039910  0.017024  0.200301  0.985693  0.198372   \n",
       "\n",
       "      H18pA     H40p4  \n",
       "0  0.000000  0.800000  \n",
       "1  0.054217  0.258064  \n",
       "2  0.056180  1.000000  \n",
       "3  0.162791  0.000000  \n",
       "4  0.106557  0.666667  "
      ]
     },
     "execution_count": 9,
     "metadata": {},
     "output_type": "execute_result"
    }
   ],
   "source": [
    "# vamos olhar para uma pequena parte do dataset\n",
    "dataset.head()"
   ]
  },
  {
   "attachments": {},
   "cell_type": "markdown",
   "metadata": {},
   "source": [
    "### Separando o conjunto de dados "
   ]
  },
  {
   "cell_type": "code",
   "execution_count": 10,
   "metadata": {},
   "outputs": [],
   "source": [
    "X = dataset.drop([\"Price\"], axis = 1)\n",
    "y = dataset[\"Price\"]\n",
    "\n",
    "X_train, X_test, y_train, y_test = train_test_split(X,y)"
   ]
  },
  {
   "attachments": {},
   "cell_type": "markdown",
   "metadata": {},
   "source": [
    "## Treinamento do modelo"
   ]
  },
  {
   "attachments": {},
   "cell_type": "markdown",
   "metadata": {},
   "source": [
    "A regressão linear é um modelo de regressão. Lembrando da fómula da equação linear: $y = a \\times x  + b$"
   ]
  },
  {
   "cell_type": "code",
   "execution_count": 15,
   "metadata": {},
   "outputs": [
    {
     "name": "stdout",
     "output_type": "stream",
     "text": [
      "MSE: 2116584664.558962\n",
      "R2_score: 0.2686138878775711\n"
     ]
    }
   ],
   "source": [
    "regression_model = LinearRegression()\n",
    "regression_model.fit(X_train, y_train)\n",
    "\n",
    "y_pred = regression_model.predict(X_test)\n",
    "\n",
    "print(\"MSE:\", mean_squared_error(y_test, y_pred))\n",
    "print(\"R2_score:\", r2_score(y_test, y_pred))"
   ]
  },
  {
   "attachments": {},
   "cell_type": "markdown",
   "metadata": {},
   "source": [
    "MSE = $\\frac{1}{n} \\sum\\limits_{i = 1}^{n}(y_i-\\hat{y_i})^2$"
   ]
  },
  {
   "cell_type": "code",
   "execution_count": 21,
   "metadata": {},
   "outputs": [
    {
     "name": "stdout",
     "output_type": "stream",
     "text": [
      "Collecting nbformat\n",
      "  Downloading nbformat-5.10.4-py3-none-any.whl.metadata (3.6 kB)\n",
      "Collecting fastjsonschema>=2.15 (from nbformat)\n",
      "  Downloading fastjsonschema-2.21.1-py3-none-any.whl.metadata (2.2 kB)\n",
      "Collecting jsonschema>=2.6 (from nbformat)\n",
      "  Downloading jsonschema-4.24.0-py3-none-any.whl.metadata (7.8 kB)\n",
      "Collecting jupyter-core!=5.0.*,>=4.12 (from nbformat)\n",
      "  Downloading jupyter_core-5.8.1-py3-none-any.whl.metadata (1.6 kB)\n",
      "Collecting traitlets>=5.1 (from nbformat)\n",
      "  Using cached traitlets-5.14.3-py3-none-any.whl.metadata (10 kB)\n",
      "Collecting attrs>=22.2.0 (from jsonschema>=2.6->nbformat)\n",
      "  Using cached attrs-25.3.0-py3-none-any.whl.metadata (10 kB)\n",
      "Collecting jsonschema-specifications>=2023.03.6 (from jsonschema>=2.6->nbformat)\n",
      "  Using cached jsonschema_specifications-2025.4.1-py3-none-any.whl.metadata (2.9 kB)\n",
      "Collecting referencing>=0.28.4 (from jsonschema>=2.6->nbformat)\n",
      "  Using cached referencing-0.36.2-py3-none-any.whl.metadata (2.8 kB)\n",
      "Collecting rpds-py>=0.7.1 (from jsonschema>=2.6->nbformat)\n",
      "  Downloading rpds_py-0.25.1-cp39-cp39-macosx_11_0_arm64.whl.metadata (4.1 kB)\n",
      "Collecting platformdirs>=2.5 (from jupyter-core!=5.0.*,>=4.12->nbformat)\n",
      "  Downloading platformdirs-4.3.8-py3-none-any.whl.metadata (12 kB)\n",
      "Collecting typing-extensions>=4.4.0 (from referencing>=0.28.4->jsonschema>=2.6->nbformat)\n",
      "  Using cached typing_extensions-4.13.2-py3-none-any.whl.metadata (3.0 kB)\n",
      "Downloading nbformat-5.10.4-py3-none-any.whl (78 kB)\n",
      "Downloading fastjsonschema-2.21.1-py3-none-any.whl (23 kB)\n",
      "Downloading jsonschema-4.24.0-py3-none-any.whl (88 kB)\n",
      "Downloading jupyter_core-5.8.1-py3-none-any.whl (28 kB)\n",
      "Using cached traitlets-5.14.3-py3-none-any.whl (85 kB)\n",
      "Using cached attrs-25.3.0-py3-none-any.whl (63 kB)\n",
      "Using cached jsonschema_specifications-2025.4.1-py3-none-any.whl (18 kB)\n",
      "Downloading platformdirs-4.3.8-py3-none-any.whl (18 kB)\n",
      "Using cached referencing-0.36.2-py3-none-any.whl (26 kB)\n",
      "Downloading rpds_py-0.25.1-cp39-cp39-macosx_11_0_arm64.whl (359 kB)\n",
      "Using cached typing_extensions-4.13.2-py3-none-any.whl (45 kB)\n",
      "Installing collected packages: fastjsonschema, typing-extensions, traitlets, rpds-py, platformdirs, attrs, referencing, jupyter-core, jsonschema-specifications, jsonschema, nbformat\n",
      "Successfully installed attrs-25.3.0 fastjsonschema-2.21.1 jsonschema-4.24.0 jsonschema-specifications-2025.4.1 jupyter-core-5.8.1 nbformat-5.10.4 platformdirs-4.3.8 referencing-0.36.2 rpds-py-0.25.1 traitlets-5.14.3 typing-extensions-4.13.2\n",
      "\n",
      "\u001b[1m[\u001b[0m\u001b[34;49mnotice\u001b[0m\u001b[1;39;49m]\u001b[0m\u001b[39;49m A new release of pip is available: \u001b[0m\u001b[31;49m25.0.1\u001b[0m\u001b[39;49m -> \u001b[0m\u001b[32;49m25.1.1\u001b[0m\n",
      "\u001b[1m[\u001b[0m\u001b[34;49mnotice\u001b[0m\u001b[1;39;49m]\u001b[0m\u001b[39;49m To update, run: \u001b[0m\u001b[32;49mpip install --upgrade pip\u001b[0m\n"
     ]
    }
   ],
   "source": [
    "!pip install --upgrade nbformat\n"
   ]
  },
  {
   "cell_type": "code",
   "execution_count": null,
   "metadata": {},
   "outputs": [],
   "source": [
    "fig = px.scatter(x=y_test, y=y_pred, \n",
    "                 title=\"Real x Previsto\", \n",
    "                 trendline=\"ols\", \n",
    "                 labels={\"x\": \"Real\", \"y\": \"Previsto\"})\n",
    "fig.show()\n"
   ]
  },
  {
   "cell_type": "code",
   "execution_count": 14,
   "metadata": {},
   "outputs": [
    {
     "data": {
      "text/html": [
       "<div>\n",
       "<style scoped>\n",
       "    .dataframe tbody tr th:only-of-type {\n",
       "        vertical-align: middle;\n",
       "    }\n",
       "\n",
       "    .dataframe tbody tr th {\n",
       "        vertical-align: top;\n",
       "    }\n",
       "\n",
       "    .dataframe thead th {\n",
       "        text-align: right;\n",
       "    }\n",
       "</style>\n",
       "<table border=\"1\" class=\"dataframe\">\n",
       "  <thead>\n",
       "    <tr style=\"text-align: right;\">\n",
       "      <th></th>\n",
       "      <th>True Value</th>\n",
       "      <th>Predicted value</th>\n",
       "      <th>Difference</th>\n",
       "    </tr>\n",
       "  </thead>\n",
       "  <tbody>\n",
       "    <tr>\n",
       "      <th>15501</th>\n",
       "      <td>24000</td>\n",
       "      <td>45932.72</td>\n",
       "      <td>-21932.72</td>\n",
       "    </tr>\n",
       "    <tr>\n",
       "      <th>12765</th>\n",
       "      <td>15800</td>\n",
       "      <td>30399.05</td>\n",
       "      <td>-14599.05</td>\n",
       "    </tr>\n",
       "    <tr>\n",
       "      <th>18417</th>\n",
       "      <td>44900</td>\n",
       "      <td>77985.28</td>\n",
       "      <td>-33085.28</td>\n",
       "    </tr>\n",
       "    <tr>\n",
       "      <th>14805</th>\n",
       "      <td>101800</td>\n",
       "      <td>51878.24</td>\n",
       "      <td>49921.76</td>\n",
       "    </tr>\n",
       "    <tr>\n",
       "      <th>20573</th>\n",
       "      <td>37500</td>\n",
       "      <td>35320.73</td>\n",
       "      <td>2179.27</td>\n",
       "    </tr>\n",
       "    <tr>\n",
       "      <th>...</th>\n",
       "      <td>...</td>\n",
       "      <td>...</td>\n",
       "      <td>...</td>\n",
       "    </tr>\n",
       "    <tr>\n",
       "      <th>3260</th>\n",
       "      <td>196400</td>\n",
       "      <td>45055.18</td>\n",
       "      <td>151344.82</td>\n",
       "    </tr>\n",
       "    <tr>\n",
       "      <th>22126</th>\n",
       "      <td>62300</td>\n",
       "      <td>21871.39</td>\n",
       "      <td>40428.61</td>\n",
       "    </tr>\n",
       "    <tr>\n",
       "      <th>22180</th>\n",
       "      <td>14999</td>\n",
       "      <td>17350.63</td>\n",
       "      <td>-2351.63</td>\n",
       "    </tr>\n",
       "    <tr>\n",
       "      <th>9300</th>\n",
       "      <td>34900</td>\n",
       "      <td>50535.49</td>\n",
       "      <td>-15635.49</td>\n",
       "    </tr>\n",
       "    <tr>\n",
       "      <th>18718</th>\n",
       "      <td>111800</td>\n",
       "      <td>83159.48</td>\n",
       "      <td>28640.52</td>\n",
       "    </tr>\n",
       "  </tbody>\n",
       "</table>\n",
       "<p>5696 rows × 3 columns</p>\n",
       "</div>"
      ],
      "text/plain": [
       "       True Value  Predicted value  Difference\n",
       "15501       24000         45932.72   -21932.72\n",
       "12765       15800         30399.05   -14599.05\n",
       "18417       44900         77985.28   -33085.28\n",
       "14805      101800         51878.24    49921.76\n",
       "20573       37500         35320.73     2179.27\n",
       "...           ...              ...         ...\n",
       "3260       196400         45055.18   151344.82\n",
       "22126       62300         21871.39    40428.61\n",
       "22180       14999         17350.63    -2351.63\n",
       "9300        34900         50535.49   -15635.49\n",
       "18718      111800         83159.48    28640.52\n",
       "\n",
       "[5696 rows x 3 columns]"
      ]
     },
     "execution_count": 14,
     "metadata": {},
     "output_type": "execute_result"
    }
   ],
   "source": [
    "pred_y_df = pd.DataFrame({\"True Value\": y_test, \"Predicted value\": y_pred, \"Difference\": y_test-y_pred}).round(2)\n",
    "pred_y_df"
   ]
  }
 ],
 "metadata": {
  "kernelspec": {
   "display_name": "Python 3",
   "language": "python",
   "name": "python3"
  },
  "language_info": {
   "codemirror_mode": {
    "name": "ipython",
    "version": 3
   },
   "file_extension": ".py",
   "mimetype": "text/x-python",
   "name": "python",
   "nbconvert_exporter": "python",
   "pygments_lexer": "ipython3",
   "version": "3.13.0"
  }
 },
 "nbformat": 4,
 "nbformat_minor": 4
}
